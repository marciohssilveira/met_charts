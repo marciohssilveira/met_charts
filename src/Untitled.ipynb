{
 "cells": [
  {
   "cell_type": "code",
   "execution_count": 1,
   "metadata": {},
   "outputs": [],
   "source": [
    "import pandas as pd\n",
    "import xarray as xr\n",
    "import numpy as np\n",
    "import math"
   ]
  },
  {
   "cell_type": "code",
   "execution_count": 2,
   "metadata": {},
   "outputs": [],
   "source": [
    "from d02_processing.variables import ExtractVariables, point"
   ]
  },
  {
   "cell_type": "code",
   "execution_count": 3,
   "metadata": {},
   "outputs": [],
   "source": [
    "PATH = '/Users/marciosilveira/Development/Projects/met_charts/data/01_raw/data.nc'\n",
    "data = xr.open_dataset(PATH)\n",
    "lat = -23.43\n",
    "lon = -46.47"
   ]
  },
  {
   "cell_type": "code",
   "execution_count": 4,
   "metadata": {},
   "outputs": [],
   "source": [
    "variables = ExtractVariables(data, 0)"
   ]
  },
  {
   "cell_type": "code",
   "execution_count": 6,
   "metadata": {},
   "outputs": [
    {
     "output_type": "execute_result",
     "data": {
      "text/plain": [
       "<bound method ExtractVariables.temperature of <d02_processing.variables.ExtractVariables object at 0x7fad2b7e5198>>"
      ]
     },
     "metadata": {},
     "execution_count": 6
    }
   ],
   "source": [
    "tair = variables.temperature\n",
    "# point(data, tair(300), lat=lat, lon=lon)"
   ]
  },
  {
   "cell_type": "code",
   "execution_count": 26,
   "metadata": {},
   "outputs": [],
   "source": [
    "levels = list(data['isobaric'].values / 100)"
   ]
  },
  {
   "cell_type": "code",
   "execution_count": 31,
   "metadata": {},
   "outputs": [
    {
     "output_type": "execute_result",
     "data": {
      "text/plain": [
       "{1.0: -8.649994,\n",
       " 2.0: -10.649963,\n",
       " 3.0: -21.949997,\n",
       " 5.0: -34.349655,\n",
       " 7.0: -38.443695,\n",
       " 10.0: -44.243896,\n",
       " 20.0: -52.249756,\n",
       " 30.0: -58.649994,\n",
       " 50.0: -67.87558,\n",
       " 70.0: -76.14995,\n",
       " 100.0: -78.35684,\n",
       " 150.0: -67.316284,\n",
       " 200.0: -53.206955,\n",
       " 250.0: -40.095703,\n",
       " 300.0: -30.54831,\n",
       " 350.0: -22.634766,\n",
       " 400.0: -16.850006,\n",
       " 450.0: -10.950012,\n",
       " 500.0: -5.350006,\n",
       " 550.0: -0.5499878,\n",
       " 600.0: 3.579895,\n",
       " 650.0: 6.649994,\n",
       " 700.0: 9.7258,\n",
       " 750.0: 12.977081,\n",
       " 800.0: 15.149994,\n",
       " 850.0: 17.519012,\n",
       " 900.0: 21.364624,\n",
       " 925.0: 24.05951,\n",
       " 950.0: 25.549011,\n",
       " 975.0: 26.950043,\n",
       " 1000.0: 28.30841}"
      ]
     },
     "metadata": {},
     "execution_count": 31
    }
   ],
   "source": [
    "vertical_profile = {}\n",
    "levels = list(data.isobaric.values / 100)\n",
    "for level in levels:\n",
    "    vertical_profile[level] = point(data, tair(level), lat=lat, lon=lon)\n",
    "\n",
    "vertical_profile"
   ]
  },
  {
   "cell_type": "code",
   "execution_count": null,
   "metadata": {},
   "outputs": [],
   "source": []
  }
 ],
 "metadata": {
  "kernelspec": {
   "display_name": "Python 3",
   "language": "python",
   "name": "python3"
  },
  "language_info": {
   "codemirror_mode": {
    "name": "ipython",
    "version": 3
   },
   "file_extension": ".py",
   "mimetype": "text/x-python",
   "name": "python",
   "nbconvert_exporter": "python",
   "pygments_lexer": "ipython3",
   "version": "3.6.8-final"
  }
 },
 "nbformat": 4,
 "nbformat_minor": 4
}