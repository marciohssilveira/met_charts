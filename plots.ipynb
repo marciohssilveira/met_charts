{
 "metadata": {
  "language_info": {
   "codemirror_mode": {
    "name": "ipython",
    "version": 3
   },
   "file_extension": ".py",
   "mimetype": "text/x-python",
   "name": "python",
   "nbconvert_exporter": "python",
   "pygments_lexer": "ipython3",
   "version": "3.8.5-final"
  },
  "orig_nbformat": 2,
  "kernelspec": {
   "name": "python_defaultSpec_1600613783723",
   "display_name": "Python 3.8.5 64-bit ('venv': venv)"
  }
 },
 "nbformat": 4,
 "nbformat_minor": 2,
 "cells": [
  {
   "cell_type": "code",
   "execution_count": 1,
   "metadata": {},
   "outputs": [],
   "source": [
    "from datetime import datetime\n",
    "\n",
    "import cartopy.crs as ccrs\n",
    "import cartopy.feature as cfeature\n",
    "import matplotlib.gridspec as gridspec\n",
    "import matplotlib.pyplot as plt\n",
    "import metpy.calc as mpcalc\n",
    "import netCDF4\n",
    "import numpy as np\n",
    "import xarray as xr\n",
    "from cftime import num2pydate\n",
    "from metpy.units import units\n",
    "from siphon.catalog import TDSCatalog\n",
    "from xarray.backends import NetCDF4DataStore\n",
    "\n",
    "import get_data\n",
    "import indices\n",
    "import charts"
   ]
  },
  {
   "cell_type": "code",
   "execution_count": 2,
   "metadata": {
    "tags": []
   },
   "outputs": [
    {
     "output_type": "stream",
     "name": "stdout",
     "text": "Downloading data...\nProcess done in 51.386122941970825 seconds\n"
    }
   ],
   "source": [
    "URL = 'http://thredds.ucar.edu/thredds/catalog/grib/NCEP/GFS/Global_0p25deg/catalog.xml'\n",
    "dataset = 'Latest Collection for GFS Quarter Degree Forecast'\n",
    "\n",
    "variables = ['Relative_humidity_isobaric',\n",
    "             'Temperature_isobaric',\n",
    "             'u-component_of_wind_isobaric',\n",
    "             'v-component_of_wind_isobaric',\n",
    "             'Best_4_layer_Lifted_Index_surface',\n",
    "             'Geopotential_height_isobaric',\n",
    "             'Precipitable_water_entire_atmosphere_single_layer']\n",
    "\n",
    "gfs_data = get_data.GetGFSData(variables)\n",
    "data = gfs_data.get_data()"
   ]
  },
  {
   "cell_type": "code",
   "execution_count": 3,
   "metadata": {},
   "outputs": [],
   "source": [
    "calculate_indices = indices.CalculateIndices(data)\n",
    "\n",
    "k_index = calculate_indices.k()\n",
    "tt_index = calculate_indices.tt()\n",
    "li_index = calculate_indices.li()\n",
    "sweat_index = calculate_indices.sweat()"
   ]
  },
  {
   "cell_type": "code",
   "execution_count": 4,
   "metadata": {},
   "outputs": [
    {
     "output_type": "execute_result",
     "data": {
      "text/plain": "array([[32.315502 , 32.52246  , 32.437057 , ..., 17.677711 , 18.417677 ,\n        18.37962  ],\n       [31.266737 , 31.49874  , 31.93873  , ..., 16.965775 , 18.004133 ,\n        17.74838  ],\n       [30.478146 , 31.336971 , 31.513456 , ..., 16.072084 , 16.28051  ,\n        16.233015 ],\n       ...,\n       [22.296011 , 22.115162 , 22.12896  , ...,  0.8674006,  0.5268438,\n         0.4592674],\n       [22.325617 , 22.407923 , 22.464912 , ...,  2.6050372,  3.6115882,\n         3.5512283],\n       [20.993948 , 21.248043 , 21.46239  , ..., 14.477463 , 14.252915 ,\n        14.32533  ]], dtype=float32)"
     },
     "metadata": {},
     "execution_count": 4
    }
   ],
   "source": [
    "k_index"
   ]
  },
  {
   "cell_type": "code",
   "execution_count": 5,
   "metadata": {},
   "outputs": [
    {
     "output_type": "execute_result",
     "data": {
      "text/plain": "array([[12.326423 ,  9.8902645,  9.691056 , ..., 23.593132 , 23.55622  ,\n        23.737083 ],\n       [ 9.957936 , 10.208871 , 10.283251 , ..., 23.504337 , 23.309155 ,\n        23.402567 ],\n       [10.181439 , 11.61145  , 10.321862 , ..., 23.785868 , 23.524128 ,\n        24.319021 ],\n       ...,\n       [47.192303 , 47.005688 , 46.72311  , ..., 68.33571  , 68.48156  ,\n        68.565254 ],\n       [47.307507 , 47.164043 , 46.991516 , ..., 67.08063  , 67.120636 ,\n        67.14712  ],\n       [47.531395 , 47.374943 , 47.24439  , ..., 66.2934   , 66.28213  ,\n        66.26936  ]], dtype=float32)"
     },
     "metadata": {},
     "execution_count": 5
    }
   ],
   "source": [
    "tt_index"
   ]
  },
  {
   "cell_type": "code",
   "execution_count": 6,
   "metadata": {},
   "outputs": [
    {
     "output_type": "execute_result",
     "data": {
      "text/plain": "array([[ 0.05665377, -0.6306448 , -0.8355725 , ..., -0.4369854 ,\n        -0.5341595 , -0.33770448],\n       [-0.03206271, -0.13625129, -0.33560768, ..., -0.23844865,\n        -0.33769944, -0.14124942],\n       [ 0.7594847 ,  0.6636532 ,  0.55455196, ..., -0.24122429,\n        -0.4335008 , -0.24263223],\n       ...,\n       [ 5.5615964 ,  5.5629945 ,  5.5622954 , ...,  6.4679523 ,\n         6.565141  ,  6.5658402 ],\n       [ 5.965835  ,  5.9651365 ,  5.9644175 , ...,  6.2672687 ,\n         6.2679577 ,  6.267264  ],\n       [ 6.855211  ,  6.7573276 ,  6.755211  , ...,  6.7594547 ,\n         6.758047  ,  6.6601634 ]], dtype=float32)"
     },
     "metadata": {},
     "execution_count": 6
    }
   ],
   "source": [
    "li_index"
   ]
  },
  {
   "cell_type": "code",
   "execution_count": 7,
   "metadata": {},
   "outputs": [
    {
     "output_type": "execute_result",
     "data": {
      "text/plain": "array([[-486.80557 , -589.58    , -557.2755  , ..., -250.44165 ,\n        -274.4324  , -259.10474 ],\n       [-555.1809  , -542.8036  , -573.6745  , ..., -275.2059  ,\n        -286.72083 , -254.93512 ],\n       [-582.06433 , -548.1815  , -546.43427 , ..., -234.38339 ,\n        -236.4385  , -234.11394 ],\n       ...,\n       [  38.616596,   34.77585 ,   12.395981, ...,  299.11087 ,\n         289.03232 ,  273.72888 ],\n       [  41.170074,   42.602146,   43.494144, ...,  286.595   ,\n         273.13474 ,  245.86343 ],\n       [  48.74751 ,   48.41542 ,   49.267994, ...,  267.23404 ,\n         225.91566 ,  269.23257 ]], dtype=float32)"
     },
     "metadata": {},
     "execution_count": 7
    }
   ],
   "source": [
    "sweat_index"
   ]
  },
  {
   "cell_type": "code",
   "execution_count": null,
   "metadata": {},
   "outputs": [],
   "source": []
  }
 ]
}